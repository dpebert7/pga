{
 "cells": [
  {
   "cell_type": "markdown",
   "metadata": {},
   "source": [
    "# Acquire Post Game Analysis\n",
    "\n",
    "### How to:\n",
    "(1) Play a game of [Acquire](https://acquire.tlstyer.com/)\n",
    "\n",
    "(2) Copy log file and paste to sLog variable below\n",
    "\n",
    "(3) Press Ctrl+Enter to run the cell\n",
    "\n",
    "Last updated 4 June 2020"
   ]
  },
  {
   "cell_type": "code",
   "execution_count": 7,
   "metadata": {},
   "outputs": [
    {
     "name": "stdout",
     "output_type": "stream",
     "text": [
      "Companies Formed:\n",
      "{}\n",
      "\n",
      "Bonus Money:\n",
      "{}\n",
      "\n",
      "Final net worth:\n",
      "{}\n",
      "\n",
      "Merging Tiles Played:\n",
      "{}\n",
      "\n"
     ]
    }
   ],
   "source": [
    "from pga import pga\n",
    "sLog = \"\"\"\n",
    "\n",
    "\"\"\"\n",
    "pga(sLog.splitlines())"
   ]
  }
 ],
 "metadata": {
  "kernelspec": {
   "display_name": "Python 3",
   "language": "python",
   "name": "python3"
  },
  "language_info": {
   "codemirror_mode": {
    "name": "ipython",
    "version": 3
   },
   "file_extension": ".py",
   "mimetype": "text/x-python",
   "name": "python",
   "nbconvert_exporter": "python",
   "pygments_lexer": "ipython3",
   "version": "3.8.1"
  }
 },
 "nbformat": 4,
 "nbformat_minor": 4
}
